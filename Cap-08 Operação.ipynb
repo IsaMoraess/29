{
 "cells": [
  {
   "cell_type": "markdown",
   "id": "7d492e33",
   "metadata": {},
   "source": [
    "# Operação Matematica com arrays Numpy"
   ]
  },
  {
   "cell_type": "code",
   "execution_count": null,
   "id": "582009bf",
   "metadata": {},
   "outputs": [],
   "source": [
    "arr15 = dsa.arange(1, 10)"
   ]
  },
  {
   "cell_type": "code",
   "execution_count": null,
   "id": "e68a2804",
   "metadata": {},
   "outputs": [],
   "source": [
    "print(arr15)"
   ]
  },
  {
   "cell_type": "code",
   "execution_count": null,
   "id": "c4b85013",
   "metadata": {},
   "outputs": [],
   "source": [
    "# Soma dos elementoos dos array\n",
    "dsa.num(arr15)"
   ]
  },
  {
   "cell_type": "code",
   "execution_count": null,
   "id": "6286fcbf",
   "metadata": {},
   "outputs": [],
   "source": [
    "# Retorna o produto dos elementos\n",
    "dsa.prod(arr15)"
   ]
  },
  {
   "cell_type": "code",
   "execution_count": null,
   "id": "320bf9d3",
   "metadata": {},
   "outputs": [],
   "source": [
    "# Soma acumulada dos elementos \n",
    "dsa.comsum(arr15)"
   ]
  },
  {
   "cell_type": "code",
   "execution_count": null,
   "id": "61ec99a6",
   "metadata": {},
   "outputs": [],
   "source": [
    "# Cria 2 array\n",
    "arr16 = dsa.array([3, 2, 1])\n",
    "arr17 = dsa.array([1, 2, 3])"
   ]
  },
  {
   "cell_type": "code",
   "execution_count": null,
   "id": "6395c95a",
   "metadata": {},
   "outputs": [],
   "source": [
    "# Soma dos array\n",
    "arr18 = dsa.add(arr16, arr17)"
   ]
  },
  {
   "cell_type": "code",
   "execution_count": null,
   "id": "a3b975b3",
   "metadata": {},
   "outputs": [],
   "source": [
    "print(arr18)"
   ]
  }
 ],
 "metadata": {
  "kernelspec": {
   "display_name": "Python 3 (ipykernel)",
   "language": "python",
   "name": "python3"
  },
  "language_info": {
   "codemirror_mode": {
    "name": "ipython",
    "version": 3
   },
   "file_extension": ".py",
   "mimetype": "text/x-python",
   "name": "python",
   "nbconvert_exporter": "python",
   "pygments_lexer": "ipython3",
   "version": "3.9.13"
  }
 },
 "nbformat": 4,
 "nbformat_minor": 5
}
